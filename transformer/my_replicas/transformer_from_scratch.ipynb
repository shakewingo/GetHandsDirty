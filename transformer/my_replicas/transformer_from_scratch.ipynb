{
 "cells": [
  {
   "cell_type": "markdown",
   "id": "d583c609-c31e-4753-9a54-f4d0b1e27faa",
   "metadata": {},
   "source": [
    "## build transformer"
   ]
  },
  {
   "cell_type": "code",
   "execution_count": 45,
   "id": "c9aa34d4-e3e2-4835-a608-914cb928d5ad",
   "metadata": {},
   "outputs": [],
   "source": [
    "import torch\n",
    "import torch.nn as nn\n",
    "import math"
   ]
  },
  {
   "cell_type": "code",
   "execution_count": 46,
   "id": "99760d1e-b2fa-4627-8ad1-903f71c6ea8b",
   "metadata": {},
   "outputs": [],
   "source": [
    "def get_config():\n",
    "    return {'batch_size': 8, 'num_epochs': 20, 'lr': 0.0001, 'seq_len': 350, 'd_model': 512,}"
   ]
  },
  {
   "cell_type": "code",
   "execution_count": 78,
   "id": "9a077c33-ea2f-4b9c-8bbc-e836ace3eed7",
   "metadata": {},
   "outputs": [],
   "source": [
    "class InputEmbeddings(nn.Module):\n",
    "    def __init__(self, vocab_size: int, d_model: int) -> None:\n",
    "        super().__init__()\n",
    "        self.vocab_size = vocab_size\n",
    "        self.d_model = d_model\n",
    "        self.embedding = nn.Embedding(vocab_size, d_model)\n",
    "        \n",
    "    def forward(self, x):\n",
    "        return self.embedding(x) * math.sqrt(self.d_model)"
   ]
  },
  {
   "cell_type": "code",
   "execution_count": 79,
   "id": "6a9224cb-cf8d-4ef7-a93e-fc935ab65330",
   "metadata": {},
   "outputs": [],
   "source": [
    "class PositionalEncoding(nn.Module):\n",
    "    def __init__(self, seq_len: int, d_model: int, dropout: float):\n",
    "        super().__init__()\n",
    "        self.seq_len = seq_len\n",
    "        self.d_model = d_model\n",
    "        self.dropout = nn.Dropout(dropout)\n",
    "        position = torch.arange(0, seq_len).float().unsqueeze(1) # (seq_len, 1)\n",
    "        pe = torch.zeros(seq_len, d_model)\n",
    "        div = torch.exp(torch.arange(0, d_model, 2).float() * (-math.log(10000.0) / d_model)) \n",
    "        pe[:, 0::2] = torch.sin(position * div) # (seq_len, d_model)\n",
    "        pe[:, 1::2] = torch.cos(position * div) # (seq_len, d_model)\n",
    "        \n",
    "        # Note that: unsqueeze(0): add one more dim in row, unsqueeze(1): add one more dim in col\n",
    "        pe = pe.unsqueeze(0)  # (seq_len, d_model) -> (1, seq_len, d_model)\n",
    "        \n",
    "        # register_buffer => Tensor which is not a parameter, but should be part of the modules state.\n",
    "        # Used for tensors that need to be on the same device as the module.\n",
    "        # persistent=False tells PyTorch to not add the buffer to the state dict (e.g. when we save the model)\n",
    "        self.register_buffer('pe', pe, persistent=False)\n",
    "        \n",
    "    def forward(self, x):\n",
    "        x += self.pe.requires_grad_(False)  # TODO: need to convert to (batch, seq_len, d_model)?\n",
    "        out = self.dropout(x)\n",
    "        return out\n",
    "    "
   ]
  },
  {
   "cell_type": "code",
   "execution_count": 49,
   "id": "28a68fba-b4af-4f17-9662-a7648326611d",
   "metadata": {},
   "outputs": [],
   "source": [
    "class FeedForwardBlock(nn.Module):\n",
    "    def __init__(self, d_model: int, d_ff: int, dropout: float) -> None:\n",
    "        super().__init__()\n",
    "        self.d_model = d_model\n",
    "        self.d_ff = d_ff\n",
    "        self.l1 = nn.Linear(d_model, d_ff)\n",
    "        self.dropout = nn.Dropout(dropout)\n",
    "        self.l2 = nn.Linear(d_ff, d_model)\n",
    "\n",
    "    def forward(self, x):\n",
    "        out = self.l2(self.dropout(torch.relu(self.l1(x))))\n",
    "        return out"
   ]
  },
  {
   "cell_type": "code",
   "execution_count": 50,
   "id": "257701dd-215d-4c23-892c-bda3f695b189",
   "metadata": {},
   "outputs": [],
   "source": [
    "class LayerNormalization(nn.Module):\n",
    "    def __init__(self, d_model: int) -> None:\n",
    "        super().__init__()\n",
    "        self.alpha = nn.Parameter(torch.ones(d_model)) # alpha is a learnable parameter\n",
    "        self.bias = nn.Parameter(torch.zeros(d_model)) # bias is a learnable parameter\n",
    "        \n",
    "    def forward(self, x):\n",
    "        # x: (batch, seq_len, hidden_size)\n",
    "        mean = x.mean(dim=-1, keepdim=True) # (batch, seq_len, 1)\n",
    "        std = x.std(dim=-1, keepdim=True) # (batch, seq_len, 1)\n",
    "        return self.alpha * (x - mean / math.sqrt(std + 10**-6)) + self.bias\n",
    "\n",
    "# layer_norm = nn.LayerNormalization(d_model)\n",
    "# layer_norm(embedding=(batch, seq_len, d_model))"
   ]
  },
  {
   "cell_type": "code",
   "execution_count": 51,
   "id": "f515f364-b090-4c03-b8bc-f792bf958cfc",
   "metadata": {},
   "outputs": [],
   "source": [
    "class ResidualConnection(nn.Module):\n",
    "    def __init__(self, d_model: int, dropout: float) -> None:\n",
    "        super().__init__()\n",
    "        self.dropout = nn.Dropout(dropout)\n",
    "        self.norm = LayerNormalization(d_model)\n",
    "\n",
    "    def forward(self, x, sublayer):\n",
    "        return x + self.dropout(sublayer(self.norm(x)))"
   ]
  },
  {
   "cell_type": "code",
   "execution_count": 53,
   "id": "855b168c-93a1-4969-8d4b-b57569a5c0d6",
   "metadata": {},
   "outputs": [],
   "source": [
    "class EncoderBlock(nn.Module):\n",
    "    def __init__(self, d_model: int, self_attention_block: MultiHeadAttentionBlock, feed_forward_block: FeedForwardBlock, dropout: float) -> None:\n",
    "        super().__init__()\n",
    "        self.self_attention_block = self_attention_block\n",
    "        self.feed_forward_block = feed_forward_block\n",
    "        self.residual_connections = nn.ModuleList(ResidualConnection(d_model, dropout) for _ in range(2))\n",
    "\n",
    "    def forward(self, x, src_mask):\n",
    "        x = self.residual_connections[0](self.self_attention_block(x, x, x, src_mask)) # TODO: different than org\n",
    "        x = self.residual_connections[1](self.feed_forward_block(x))\n",
    "        return x"
   ]
  },
  {
   "cell_type": "code",
   "execution_count": 54,
   "id": "93944b71-47b6-4cc6-bcf4-3ac12aa69aa1",
   "metadata": {},
   "outputs": [],
   "source": [
    "class Encoder(nn.Module):\n",
    "    def __init__(self, d_model: int, blocks: nn.ModuleList) -> None:\n",
    "        super().__init__()\n",
    "        self.blocks = blocks\n",
    "        self.norm = LayerNormalization(d_model)\n",
    "\n",
    "    def forward(self, x, src_mask):\n",
    "        for block in self.blocks:\n",
    "            x = block(x, src_mask)\n",
    "        return self.norm(x)"
   ]
  },
  {
   "cell_type": "code",
   "execution_count": 55,
   "id": "e5f79dfa-8805-4042-98c0-f4dcc0c63a63",
   "metadata": {},
   "outputs": [],
   "source": [
    "class DecoderBlock(nn.Module):\n",
    "    def __init__(self, d_model: int, self_attention_block: MultiHeadAttentionBlock, cross_attention_block: MultiHeadAttentionBlock, feed_forward_block: FeedForwardBlock, dropout: float) -> None:\n",
    "        super().__init__()\n",
    "        self.self_attention_block = self_attention_block\n",
    "        self.cross_attention_block = cross_attention_block\n",
    "        self.feed_forward_block = feed_forward_block\n",
    "        self.residual_connections = nn.ModuleList(ResidualConnection(d_model, dropout) for _ in range(3))\n",
    "\n",
    "    def forward(self, x, encoder_output, src_mask, tgt_mask):\n",
    "        x = self.residual_connections[0](self.self_attention_block(x, x, x, tgt_mask)) # TODO: different than org\n",
    "        x = self.residual_connections[1](self.cross_attention_block(x, encoder_output, encoder_output, src_mask))\n",
    "        x = self.residual_connections[2](self.feed_forward_block(x))\n",
    "        return x"
   ]
  },
  {
   "cell_type": "code",
   "execution_count": 76,
   "id": "66ca2809-a16b-4534-8bc8-3c0f040e067a",
   "metadata": {},
   "outputs": [],
   "source": [
    "class Decoder(nn.Module):\n",
    "    def __init__(self, d_model: int, blocks: nn.ModuleList) -> None:\n",
    "        super().__init__()\n",
    "        self.blocks = blocks\n",
    "        self.norm = LayerNormalization(d_model)\n",
    "\n",
    "    def forward(self, x, encoder_output, src_mask, tgt_mask):\n",
    "        for block in self.blocks:\n",
    "            x = block(x, encoder_output, src_mask, tgt_mask)\n",
    "        return self.norm(x)"
   ]
  },
  {
   "cell_type": "code",
   "execution_count": 68,
   "id": "6678a90c-a922-41fa-a213-d5782563bab1",
   "metadata": {},
   "outputs": [],
   "source": [
    "class MultiHeadAttentionBlock(nn.Module):\n",
    "    def __init__(self, d_model: int, h: int, dropout: float) -> None:\n",
    "        super().__init__()\n",
    "        self.d_model = d_model\n",
    "        self.h = h\n",
    "        self.dropout = nn.Dropout(dropout)\n",
    "        assert d_model % h == 0, 'd_model is not divisible by h'\n",
    "        self.w_q = nn.Linear(d_model, d_model, bias=False)\n",
    "        self.w_k = nn.Linear(d_model, d_model, bias=False)\n",
    "        self.w_v = nn.Linear(d_model, d_model, bias=False)\n",
    "        self.w_o = nn.Linear(d_model, d_model, bias=False)\n",
    "        self.d_k = self.d_model // h\n",
    "\n",
    "    @staticmethod\n",
    "    def attention(q_i, k_i, v_i, mask, dropout: nn.Dropout):\n",
    "        # q_i: (batch, h, seq_len, d_k), k_i: (batch, h, seq_len, d_k)\n",
    "        d_k = q_i.shape[-1]\n",
    "        attention_score = q_i @ k_i.transpose(-2, -1) / math.sqrt(d_k)  # (batch, h, seq_len, seq_len)\n",
    "        if mask:\n",
    "            attention_score.masked_fill_(mask == 0, -1e9)\n",
    "        attention_scores = attention_score.softmax(dim=-1)  # (batch, h, seq_len, seq_len)\n",
    "        if dropout:\n",
    "            attention_scores = dropout(attention_scores)\n",
    "        # return attention_scores for visluazation\n",
    "        return (attention_scores @ v_i), attention_scores\n",
    "\n",
    "    def forward(self, q, k, v, mask):\n",
    "        query = self.w_q(q)\n",
    "        key = self.w_k(k)\n",
    "        value = self.w_v(v)\n",
    "        \n",
    "        # (batch, seq_len, d_model) -> (batch, seq_len, h, d_k) -> (batch, h, seq_len, d_k)\n",
    "        query = query.view(query.shape[0], query.shape[1], self.h, self.d_k).transpose(1, 2)\n",
    "        key = key.view(key.shape[0], key.shape[1], self.h, self.d_k).transpose(1, 2)\n",
    "        value = value.view(value.shape[0], value.shape[1], self.h, self.d_k).transpose(1, 2)\n",
    "        x, self.attention_scores = MutiHeadAttention.attention(query, key, value, mask, self.dropout)\n",
    "        # concentrate multi-head: (batch, h, seq_len, d_k) -> (batch, seq_len, h, d_k) -> (batch, seq_len, d_model)\n",
    "        x = x.transpose(1, 2).contiguous().view(x.shape[0], -1, self.h * self.d_k)\n",
    "        return self.w_o(x)"
   ]
  },
  {
   "cell_type": "code",
   "execution_count": 69,
   "id": "61f7c5b3-ffdc-48f1-9bc8-59bfca25d30d",
   "metadata": {},
   "outputs": [],
   "source": [
    "# TODO: last linear part? what about softmax?\n",
    "class ProjectionLayer(nn.Module):\n",
    "\n",
    "    def __init__(self, d_model, vocab_size) -> None:\n",
    "        super().__init__()\n",
    "        self.proj = nn.Linear(d_model, vocab_size)\n",
    "\n",
    "    def forward(self, x) -> None:\n",
    "        # (batch, seq_len, d_model) --> (batch, seq_len, vocab_size)\n",
    "        return self.proj(x)"
   ]
  },
  {
   "cell_type": "code",
   "execution_count": 80,
   "id": "d377668b-fa9b-4fb5-8f99-8920175fd4ea",
   "metadata": {},
   "outputs": [],
   "source": [
    "class Transformer(nn.Module):\n",
    "    def __init__(self, encoder: Encoder, decoder: Decoder, src_embed: InputEmbeddings, tgt_embed: InputEmbeddings, src_pos: PositionalEncoding, tgt_pos: PositionalEncoding, projection_layer: ProjectionLayer) -> None:\n",
    "        super().__init__()\n",
    "        self.encoder = encoder\n",
    "        self.decoder = decoder\n",
    "        self.src_embed = src_embed\n",
    "        self.tgt_embed = tgt_embed\n",
    "        self.src_pos = src_pos\n",
    "        self.tgt_pos = tgt_pos\n",
    "        self.projection_layer = projection_layer\n",
    "\n",
    "    def encode(self, src, src_mask):\n",
    "        src = self.src_embed(src)\n",
    "        src = self.src_pos(src)\n",
    "        return self.encoder(src, src_mask)\n",
    "\n",
    "    def decode(self, tgt, encoder_output, src_mask, tgt_mask):\n",
    "        tgt = self.tgt_embed(tgt)\n",
    "        tgt = self.tgt_pos(tgt)\n",
    "        return self.decoder(tgt, encoder_output, src_mask, tgt_mask)\n",
    "\n",
    "    def project(self, x):\n",
    "        return self.projection_layer(x)"
   ]
  },
  {
   "cell_type": "code",
   "execution_count": 81,
   "id": "e4268feb-3a04-44b8-862e-f49c70a2ac07",
   "metadata": {},
   "outputs": [],
   "source": [
    "def build_transformer(src_vocab_size: int, tgt_vocab_size: int, src_seq_len: int, tgt_seq_len: int, \n",
    "                     d_model: int=512, N: int=6, h: int=8, dropout: float=0.1, d_ff: int=2048) -> Transformer:\n",
    "    src_embed = Input_Embedding(src_vocab_size, d_model)\n",
    "    tgt_embed = Input_Embedding(tgt_vocab_size, d_model)\n",
    "    src_pos = Positioan_Embedding(src_seq_len, d_model, dropout)\n",
    "    tgt_pos = Positioan_Embedding(tgt_seq_len, d_model, dropout)\n",
    "\n",
    "    # build encoder blocks\n",
    "    encoder_blocks = []\n",
    "    for _ in range(N):\n",
    "        encoder_self_attention_block = MultiHeadAttentionBlock(d_model, h, dropout)\n",
    "        feed_forward_block = FeedForwardBlock(d_model, d_ff, dropout)\n",
    "        encoder_block = EncoderBlock(d_model, encoder_self_attention_block, feed_forward_block, dropout)\n",
    "        encoder_blocks.append(encoder_block)\n",
    "\n",
    "    decoder_blocks = []\n",
    "    for _ in range(N):\n",
    "        decoder_self_attention_block = MultiHeadAttentionBlock(d_model, h, dropout)\n",
    "        decoder_cross_attention_block = MultiHeadAttentionBlock(d_model, h, dropout)\n",
    "        feed_forward_block = FeedForwardBlock(d_model, d_ff, dropout)\n",
    "        decoder_block = DecoderBlock(d_model, decoder_self_attention_block, decoder_cross_attention_block, feed_forward_block, dropout)\n",
    "        decoder_blocks.append(decoder_block)\n",
    "\n",
    "    # create encoder and encoder\n",
    "    encoder = Encoder(d_model, nn.ModuleList(encoder_blocks))\n",
    "    decoder = Decoder(d_model, nn.ModuleList(encoder_blocks))\n",
    "\n",
    "    # create projection layter\n",
    "    projection_layer = ProjectionLayer(d_model, tgt_vocab_size)\n",
    "\n",
    "    transformer = Transformer(encoder, decoder, src_embed, tgt_embed, src_pos, tgt_pos, projection_layer)\n",
    "\n",
    "    # Initialize the parameters\n",
    "    for p in transformer.parameters():\n",
    "        if p.dim() > 1:\n",
    "            nn.init.xavier_uniform_(p)\n",
    "    return transformer"
   ]
  },
  {
   "cell_type": "code",
   "execution_count": 98,
   "id": "21f17ea8-ae28-48df-b669-45aa06cde4b3",
   "metadata": {},
   "outputs": [
    {
     "data": {
      "text/plain": [
       "torch.Size([2, 2, 1, 2])"
      ]
     },
     "execution_count": 98,
     "metadata": {},
     "output_type": "execute_result"
    }
   ],
   "source": [
    "x = torch.zeros(2, 1, 2, 1, 2)\n",
    "x.size()\n",
    "y = torch.squeeze(x)\n",
    "y.size()\n",
    "y = torch.squeeze(x, 0)\n",
    "y.size()\n",
    "y = torch.squeeze(x, 1)\n",
    "y.size()\n",
    "# y = torch.squeeze(x, (1, 2, 3))"
   ]
  },
  {
   "cell_type": "code",
   "execution_count": 103,
   "id": "ae80dafc-6ce7-4665-8359-d96b497c8cd5",
   "metadata": {},
   "outputs": [
    {
     "data": {
      "text/plain": [
       "torch.Size([2, 1, 2, 1, 2])"
      ]
     },
     "execution_count": 103,
     "metadata": {},
     "output_type": "execute_result"
    }
   ],
   "source": [
    "x.squeeze(0).size()"
   ]
  },
  {
   "cell_type": "code",
   "execution_count": 104,
   "id": "787323fa-c82f-44e2-a49b-3dd24047d877",
   "metadata": {},
   "outputs": [
    {
     "data": {
      "text/plain": [
       "torch.Size([2, 1, 2, 1, 2])"
      ]
     },
     "execution_count": 104,
     "metadata": {},
     "output_type": "execute_result"
    }
   ],
   "source": [
    "x.size()"
   ]
  },
  {
   "cell_type": "code",
   "execution_count": null,
   "id": "f979055a-b26b-4e10-bf92-5851cefa7070",
   "metadata": {},
   "outputs": [],
   "source": []
  }
 ],
 "metadata": {
  "kernelspec": {
   "display_name": "Python 3 (ipykernel)",
   "language": "python",
   "name": "python3"
  },
  "language_info": {
   "codemirror_mode": {
    "name": "ipython",
    "version": 3
   },
   "file_extension": ".py",
   "mimetype": "text/x-python",
   "name": "python",
   "nbconvert_exporter": "python",
   "pygments_lexer": "ipython3",
   "version": "3.12.1"
  }
 },
 "nbformat": 4,
 "nbformat_minor": 5
}
